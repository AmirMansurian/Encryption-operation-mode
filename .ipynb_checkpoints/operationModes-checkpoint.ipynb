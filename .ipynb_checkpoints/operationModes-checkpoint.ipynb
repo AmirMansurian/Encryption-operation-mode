{
 "cells": [
  {
   "cell_type": "markdown",
   "metadata": {},
   "source": [
    "# Modes of operation:"
   ]
  },
  {
   "cell_type": "code",
   "execution_count": 19,
   "metadata": {},
   "outputs": [],
   "source": [
    "from AES import AES"
   ]
  },
  {
   "cell_type": "markdown",
   "metadata": {},
   "source": [
    "In the following segment, we initialize the values associated with our block cipher. these values include a 96bit long IV and a 128bit long key."
   ]
  },
  {
   "cell_type": "code",
   "execution_count": 20,
   "metadata": {},
   "outputs": [],
   "source": [
    "IV = 0x3243f6a8885a308d313198a2\n",
    "master_key = 0x2b7e151628aed2a6abf7158809cf4f3c\n",
    "AES = AES(master_key)"
   ]
  },
  {
   "cell_type": "markdown",
   "metadata": {},
   "source": [
    "The following function splits the raw input strings into chunks of 128bit long numbers, which are ready to be encrypted by our block cipher.\n",
    "To encrypt each block, in the array of blocks, just call the method AES.encrypt(block). The output of this method is an encrypted 128bit long number."
   ]
  },
  {
   "cell_type": "code",
   "execution_count": 21,
   "metadata": {},
   "outputs": [],
   "source": [
    "def processMessage(string):\n",
    "    blocks = [string[i:i + (16 if (i+16) <= len(string) else len(string)-i)] for i in range(0, len(string), 16)]\n",
    "    for i in range(len(blocks)):\n",
    "        blocks[i] = int('0x'+''.join(hex(ord(c))[2:] for c in blocks[i]),16)\n",
    "    return blocks"
   ]
  },
  {
   "cell_type": "markdown",
   "metadata": {},
   "source": [
    "The ensuing function gets the 128bit long integer blocks outputted by each decryption function, and extracts the overall alphanumeric string related to them."
   ]
  },
  {
   "cell_type": "code",
   "execution_count": 22,
   "metadata": {},
   "outputs": [],
   "source": [
    "def processBlocks(blocks):\n",
    "    plaintext = ''\n",
    "    for decrypted in blocks:\n",
    "        decrypted = hex(decrypted)\n",
    "        decrypted = [decrypted[i:i+2] for i in range(2,len(decrypted),2)]\n",
    "        decrypted = [chr(int(c,16)) for c in decrypted]\n",
    "        plaintext += ''.join(decrypted)\n",
    "    return plaintext"
   ]
  },
  {
   "cell_type": "markdown",
   "metadata": {},
   "source": [
    "The input to the below function consists of the output blocks of the processMessage function. Write a code for the implementation of the ECB encryption mode. don't forget to adjust the return value to your needs."
   ]
  },
  {
   "cell_type": "code",
   "execution_count": 23,
   "metadata": {},
   "outputs": [],
   "source": [
    "def encryptECB(message):\n",
    "    \n",
    "    for i in range(len(message)):\n",
    "        message[i] = AES.encrypt(message[i])\n",
    "        \n",
    "    return message"
   ]
  },
  {
   "cell_type": "markdown",
   "metadata": {},
   "source": [
    "The input to the below function consists of the output blocks of the encryptECB function. Write a code for the implementation of the ECB decryption mode. don't forget to adjust the return value to your needs. to decrypt a block call the method AES.decrypt(block). The output of this method is an decrypted 128bit long number."
   ]
  },
  {
   "cell_type": "code",
   "execution_count": 24,
   "metadata": {},
   "outputs": [],
   "source": [
    "def decryptECB(message):\n",
    "    \n",
    "    for i in range(len(message)):\n",
    "        message[i] = AES.decrypt(message[i])\n",
    "    \n",
    "    return message"
   ]
  },
  {
   "cell_type": "markdown",
   "metadata": {},
   "source": [
    "The input to the below function consists of the output blocks of the processMessage function. Write a code for the implementation of the CBC encryption mode. don't forget to adjust the return value to your needs."
   ]
  },
  {
   "cell_type": "code",
   "execution_count": 25,
   "metadata": {},
   "outputs": [],
   "source": [
    "def encryptCBC(message):\n",
    "    \n",
    "    for i in range(len(message)):\n",
    "        if i == 0:\n",
    "            message[i] = AES.encrypt(message [i] ^ IV)\n",
    "        message[i] = AES.encrypt(message[i] ^ message[i-1])\n",
    "    \n",
    "    return message"
   ]
  },
  {
   "cell_type": "markdown",
   "metadata": {},
   "source": [
    "The input to the below function consists of the output blocks of the encryptCBC function. Write a code for the implementation of the CBC decryption mode. don't forget to adjust the return value to your needs."
   ]
  },
  {
   "cell_type": "code",
   "execution_count": 27,
   "metadata": {},
   "outputs": [
    {
     "ename": "IndentationError",
     "evalue": "unindent does not match any outer indentation level (<tokenize>, line 8)",
     "output_type": "error",
     "traceback": [
      "\u001b[0;36m  File \u001b[0;32m\"<tokenize>\"\u001b[0;36m, line \u001b[0;32m8\u001b[0m\n\u001b[0;31m    return message\u001b[0m\n\u001b[0m    ^\u001b[0m\n\u001b[0;31mIndentationError\u001b[0m\u001b[0;31m:\u001b[0m unindent does not match any outer indentation level\n"
     ]
    }
   ],
   "source": [
    "def decryptCBC(message):\n",
    "    \n",
    "     for i in range(len(message)):\n",
    "        if i == 0:\n",
    "            message[i] = AES.decrypt(message [i]) ^ IV\n",
    "        message[i] = AES.decrypt(message[i]) ^ message[i-1]\n",
    "    \n",
    "     return message"
   ]
  },
  {
   "cell_type": "markdown",
   "metadata": {},
   "source": [
    "The input to the below function consists of the output blocks of the processMessage function. Write a code for the implementation of the OFB encryption mode. don't forget to adjust the return value to your needs."
   ]
  },
  {
   "cell_type": "code",
   "execution_count": 28,
   "metadata": {},
   "outputs": [],
   "source": [
    "def encryptOFB(message):\n",
    "    \n",
    "    S = message\n",
    "    \n",
    "    for i in range(len(message)):\n",
    "        if i == 0:\n",
    "            S[i] = AES.encrypt(S[i])\n",
    "            message[i] = message [i] ^ S[i]\n",
    "            \n",
    "        S[i] = AES.encrypt(S[i-1])\n",
    "        message[i] = message[i] ^ S[i]\n",
    "    \n",
    "    return message"
   ]
  },
  {
   "cell_type": "markdown",
   "metadata": {},
   "source": [
    "The input to the below function consists of the output blocks of the encryptOFB function. Write a code for the implementation of the OFB decryption mode. don't forget to adjust the return value to your needs."
   ]
  },
  {
   "cell_type": "code",
   "execution_count": 29,
   "metadata": {},
   "outputs": [],
   "source": [
    "def decryptOFB(message):\n",
    "    \n",
    "    for i in range(len(message)):\n",
    "        if i == 0:\n",
    "            message[i] = AES.encrypt(message [i]) ^ IV\n",
    "        message[i] = AES.encrypt(message[i]) ^ message[i-1]\n",
    "    \n",
    "    return message"
   ]
  },
  {
   "cell_type": "markdown",
   "metadata": {},
   "source": [
    "The input to the below function consists of the output blocks of the processMessage function. Write a code for the implementation of the CFB encryption mode. don't forget to adjust the return value to your needs."
   ]
  },
  {
   "cell_type": "code",
   "execution_count": 30,
   "metadata": {},
   "outputs": [],
   "source": [
    "def encryptCFB(message):\n",
    "    \n",
    "    for i in range(len(message)):\n",
    "        if i == 0:\n",
    "            message[i] = AES.encrypt(IV) ^ message [i]\n",
    "        message[i] = AES.encrypt(message[i-1]) ^ message[i]\n",
    "    \n",
    "    return message"
   ]
  },
  {
   "cell_type": "markdown",
   "metadata": {},
   "source": [
    "The input to the below function consists of the output blocks of the encryptCFB function. Write a code for the implementation of the CFB decryption mode. don't forget to adjust the return value to your needs."
   ]
  },
  {
   "cell_type": "code",
   "execution_count": 31,
   "metadata": {},
   "outputs": [],
   "source": [
    "def decryptCFB(message):\n",
    "    \n",
    "    for i in range(len(message)):\n",
    "        if i == 0:\n",
    "            message[i] = AES.encrypt(IV) ^ message [i]\n",
    "        message[i] = AES.encrypt(message[i-1]) ^ message[i]\n",
    "    \n",
    "    return message"
   ]
  },
  {
   "cell_type": "markdown",
   "metadata": {},
   "source": [
    "The input to the below function consists of the output blocks of the processMessage function. Write a code for the implementation of the CTR encryption mode. don't forget to adjust the return value to your needs. Suppose the counter is a regular one starting from 0."
   ]
  },
  {
   "cell_type": "code",
   "execution_count": 32,
   "metadata": {},
   "outputs": [],
   "source": [
    "def encryptCTR(message):\n",
    "    \n",
    "    mod = 0x100000000\n",
    "    Counter = 0x00000000\n",
    "    \n",
    "    for i in range(len(message)):\n",
    "        \n",
    "        temp = int (str(IV) + str(Counter))\n",
    "        message[i] = AES.encrypt(temp) ^ message[i]\n",
    "        Counter = (Counter + 1) % mod\n",
    "    \n",
    "    return message"
   ]
  },
  {
   "cell_type": "markdown",
   "metadata": {},
   "source": [
    "The input to the below function consists of the output blocks of the encryptCTR function. Write a code for the implementation of the CTR decryption mode. don't forget to adjust the return value to your needs.Suppose the counter is a regular one starting from 0."
   ]
  },
  {
   "cell_type": "code",
   "execution_count": 33,
   "metadata": {},
   "outputs": [],
   "source": [
    "def decryptCTR(message):\n",
    "    \n",
    "    mod = 0x100000000\n",
    "    Counter = 0x00000000\n",
    "    \n",
    "    for i in range(len(message)):\n",
    "        \n",
    "        temp = int (str(IV) + str(Counter))\n",
    "        message[i] = AES.encrypt(temp) ^ message[i]\n",
    "        Counter = (Counter + 1) % mod\n",
    "    \n",
    "    return message"
   ]
  },
  {
   "cell_type": "markdown",
   "metadata": {},
   "source": [
    "Here, enter a desired line of input to be tested."
   ]
  },
  {
   "cell_type": "code",
   "execution_count": null,
   "metadata": {},
   "outputs": [],
   "source": [
    "string = input('please enter a line to start encryption:')\n",
    "blocks = processMessage(string)"
   ]
  },
  {
   "cell_type": "markdown",
   "metadata": {},
   "source": [
    "In the following parts, functions are called in the appropriate order. Please do not change these parts."
   ]
  },
  {
   "cell_type": "code",
   "execution_count": null,
   "metadata": {},
   "outputs": [],
   "source": [
    "encrypted = encryptECB(blocks)\n",
    "decrypted = decryptECB(encrypted)\n",
    "plaintext = processBlocks(decrypted)\n",
    "print(plaintext)"
   ]
  },
  {
   "cell_type": "code",
   "execution_count": null,
   "metadata": {},
   "outputs": [],
   "source": [
    "encrypted = encryptCBC(blocks)\n",
    "decrypted = decryptCBC(encrypted)\n",
    "plaintext = processBlocks(decrypted)\n",
    "print(plaintext)"
   ]
  },
  {
   "cell_type": "code",
   "execution_count": null,
   "metadata": {},
   "outputs": [],
   "source": [
    "encrypted = encryptOFB(blocks)\n",
    "decrypted = decryptOFB(encrypted)\n",
    "plaintext = processBlocks(decrypted)\n",
    "print(plaintext)"
   ]
  },
  {
   "cell_type": "code",
   "execution_count": null,
   "metadata": {},
   "outputs": [],
   "source": [
    "encrypted = encryptCFB(blocks)\n",
    "decrypted = decryptCFB(encrypted)\n",
    "plaintext = processBlocks(decrypted)\n",
    "print(plaintext)"
   ]
  },
  {
   "cell_type": "code",
   "execution_count": null,
   "metadata": {},
   "outputs": [],
   "source": [
    "encrypted = encryptCTR(blocks)\n",
    "decrypted = decryptCTR(encrypted)\n",
    "plaintext = processBlocks(decrypted)\n",
    "print(plaintext)"
   ]
  },
  {
   "cell_type": "code",
   "execution_count": null,
   "metadata": {},
   "outputs": [],
   "source": []
  },
  {
   "cell_type": "code",
   "execution_count": null,
   "metadata": {},
   "outputs": [],
   "source": []
  },
  {
   "cell_type": "code",
   "execution_count": null,
   "metadata": {},
   "outputs": [],
   "source": []
  }
 ],
 "metadata": {
  "kernelspec": {
   "display_name": "Python 3",
   "language": "python",
   "name": "python3"
  },
  "language_info": {
   "codemirror_mode": {
    "name": "ipython",
    "version": 3
   },
   "file_extension": ".py",
   "mimetype": "text/x-python",
   "name": "python",
   "nbconvert_exporter": "python",
   "pygments_lexer": "ipython3",
   "version": "3.7.3"
  }
 },
 "nbformat": 4,
 "nbformat_minor": 2
}
